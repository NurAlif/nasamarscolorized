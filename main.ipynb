{
 "cells": [
  {
   "cell_type": "code",
   "execution_count": null,
   "metadata": {},
   "outputs": [],
   "source": [
    "import tensorflow as tf\n",
    "from PIL import Image\n",
    "import numpy as np\n",
    "import matplotlib.pyplot as plt\n",
    "\n",
    "import requests\n",
    "import json\n",
    "import urllib\n",
    "import urllib.request"
   ]
  },
  {
   "cell_type": "code",
   "execution_count": 3,
   "metadata": {},
   "outputs": [
    {
     "name": "stdout",
     "output_type": "stream",
     "text": [
      "Model: \"sequential_2\"\n",
      "_________________________________________________________________\n",
      " Layer (type)                Output Shape              Param #   \n",
      "=================================================================\n",
      " sequential (Sequential)     (None, 224, 224, 256)     174816    \n",
      "                                                                 \n",
      " sequential_1 (Sequential)   (None, 224, 224, 3)       172643    \n",
      "                                                                 \n",
      "=================================================================\n",
      "Total params: 347,459\n",
      "Trainable params: 346,499\n",
      "Non-trainable params: 960\n",
      "_________________________________________________________________\n"
     ]
    }
   ],
   "source": [
    "new_model = tf.keras.models.load_model('my_model.h5')\n",
    "\n",
    "# Show the model architecture\n",
    "new_model.summary()"
   ]
  },
  {
   "cell_type": "code",
   "execution_count": 5,
   "metadata": {},
   "outputs": [],
   "source": [
    "image = Image.open(\"download.jpg\")\n",
    "\n",
    "    "
   ]
  },
  {
   "cell_type": "code",
   "execution_count": 8,
   "metadata": {},
   "outputs": [],
   "source": [
    "img_rszd = tf.image.resize(\n",
    "    image,\n",
    "    [224,224]\n",
    ")"
   ]
  },
  {
   "cell_type": "code",
   "execution_count": 14,
   "metadata": {},
   "outputs": [
    {
     "data": {
      "text/plain": [
       "array([[[251.      , 252.      , 255.      ],\n",
       "        [251.      , 252.      , 255.      ],\n",
       "        [251.      , 252.      , 255.      ],\n",
       "        ...,\n",
       "        [235.      , 236.      , 240.      ],\n",
       "        [235.      , 236.      , 240.      ],\n",
       "        [235.      , 236.      , 240.      ]],\n",
       "\n",
       "       [[251.      , 252.      , 255.      ],\n",
       "        [251.      , 252.      , 255.      ],\n",
       "        [251.      , 252.      , 255.      ],\n",
       "        ...,\n",
       "        [235.      , 236.      , 240.      ],\n",
       "        [235.      , 236.      , 240.      ],\n",
       "        [235.      , 236.      , 240.      ]],\n",
       "\n",
       "       [[251.      , 252.      , 255.      ],\n",
       "        [251.      , 252.      , 255.      ],\n",
       "        [251.      , 252.      , 255.      ],\n",
       "        ...,\n",
       "        [235.      , 236.      , 240.      ],\n",
       "        [235.      , 236.      , 240.      ],\n",
       "        [235.      , 236.      , 240.      ]],\n",
       "\n",
       "       ...,\n",
       "\n",
       "       [[240.56921 , 241.56921 , 245.56921 ],\n",
       "        [240.56921 , 241.56921 , 245.56921 ],\n",
       "        [240.56921 , 241.56921 , 245.56921 ],\n",
       "        ...,\n",
       "        [ 32.90917 ,  33.90917 ,  37.90917 ],\n",
       "        [ 36.564693,  37.564693,  41.564693],\n",
       "        [ 40.29236 ,  41.29236 ,  45.29236 ]],\n",
       "\n",
       "       [[240.      , 241.      , 245.      ],\n",
       "        [240.      , 241.      , 245.      ],\n",
       "        [240.      , 241.      , 245.      ],\n",
       "        ...,\n",
       "        [ 36.37274 ,  37.37274 ,  41.37274 ],\n",
       "        [ 39.098206,  40.098206,  44.098206],\n",
       "        [ 42.      ,  43.      ,  47.      ]],\n",
       "\n",
       "       [[240.      , 241.      , 245.      ],\n",
       "        [240.      , 241.      , 245.      ],\n",
       "        [240.      , 241.      , 245.      ],\n",
       "        ...,\n",
       "        [ 36.37274 ,  37.37274 ,  41.37274 ],\n",
       "        [ 39.098206,  40.098206,  44.098206],\n",
       "        [ 42.      ,  43.      ,  47.      ]]], dtype=float32)"
      ]
     },
     "execution_count": 14,
     "metadata": {},
     "output_type": "execute_result"
    }
   ],
   "source": [
    "img_rszd.numpy()\n"
   ]
  },
  {
   "cell_type": "code",
   "execution_count": 23,
   "metadata": {},
   "outputs": [],
   "source": [
    "res = new_model.predict(np.expand_dims(img_rszd, axis=0))"
   ]
  },
  {
   "cell_type": "code",
   "execution_count": 30,
   "metadata": {},
   "outputs": [],
   "source": [
    "PIL_image = Image.fromarray(np.uint8(res[0])).convert('RGB')\n",
    "PIL_image.show()"
   ]
  },
  {
   "cell_type": "code",
   "execution_count": 29,
   "metadata": {},
   "outputs": [],
   "source": [
    "img_ori = Image.fromarray(np.uint8(img_rszd)).convert('RGB')\n",
    "img_ori.show()"
   ]
  },
  {
   "cell_type": "code",
   "execution_count": null,
   "metadata": {},
   "outputs": [],
   "source": []
  },
  {
   "cell_type": "code",
   "execution_count": null,
   "metadata": {},
   "outputs": [],
   "source": [
    "base_url = \"https://api.nasa.gov/mars-photos/api/v1/rovers/curiosity/photos?sol=\"+str(sol)+\"&camera=fhaz&api_key=\""
   ]
  }
 ],
 "metadata": {
  "kernelspec": {
   "display_name": "Python 3.9.12 ('base')",
   "language": "python",
   "name": "python3"
  },
  "language_info": {
   "codemirror_mode": {
    "name": "ipython",
    "version": 3
   },
   "file_extension": ".py",
   "mimetype": "text/x-python",
   "name": "python",
   "nbconvert_exporter": "python",
   "pygments_lexer": "ipython3",
   "version": "3.9.12 (main, Apr  4 2022, 05:22:27) [MSC v.1916 64 bit (AMD64)]"
  },
  "orig_nbformat": 4,
  "vscode": {
   "interpreter": {
    "hash": "ad2bdc8ecc057115af97d19610ffacc2b4e99fae6737bb82f5d7fb13d2f2c186"
   }
  }
 },
 "nbformat": 4,
 "nbformat_minor": 2
}
